{
 "cells": [
  {
   "cell_type": "code",
   "execution_count": 59,
   "metadata": {},
   "outputs": [
    {
     "name": "stdout",
     "output_type": "stream",
     "text": [
      "Collecting telegram-send\n",
      "  Using cached telegram_send-0.25-py2.py3-none-any.whl (24 kB)\n",
      "Collecting python-telegram-bot>=12.1.1\n",
      "  Using cached python_telegram_bot-13.7-py3-none-any.whl (490 kB)\n",
      "Requirement already satisfied: colorama in c:\\users\\bhupal\\anaconda3\\lib\\site-packages (from telegram-send) (0.4.4)\n",
      "Requirement already satisfied: appdirs in c:\\users\\bhupal\\anaconda3\\lib\\site-packages (from telegram-send) (1.4.4)\n",
      "Requirement already satisfied: cachetools==4.2.2 in c:\\users\\bhupal\\anaconda3\\lib\\site-packages (from python-telegram-bot>=12.1.1->telegram-send) (4.2.2)\n",
      "Requirement already satisfied: APScheduler==3.6.3 in c:\\users\\bhupal\\anaconda3\\lib\\site-packages (from python-telegram-bot>=12.1.1->telegram-send) (3.6.3)\n",
      "Requirement already satisfied: tornado>=6.1 in c:\\users\\bhupal\\anaconda3\\lib\\site-packages (from python-telegram-bot>=12.1.1->telegram-send) (6.1)\n",
      "Requirement already satisfied: certifi in c:\\users\\bhupal\\anaconda3\\lib\\site-packages (from python-telegram-bot>=12.1.1->telegram-send) (2020.6.20)\n",
      "Requirement already satisfied: pytz>=2018.6 in c:\\users\\bhupal\\anaconda3\\lib\\site-packages (from python-telegram-bot>=12.1.1->telegram-send) (2020.1)\n",
      "Requirement already satisfied: setuptools>=0.7 in c:\\users\\bhupal\\anaconda3\\lib\\site-packages (from APScheduler==3.6.3->python-telegram-bot>=12.1.1->telegram-send) (50.3.1.post20201107)\n",
      "Requirement already satisfied: tzlocal>=1.2 in c:\\users\\bhupal\\anaconda3\\lib\\site-packages (from APScheduler==3.6.3->python-telegram-bot>=12.1.1->telegram-send) (3.0)\n",
      "Requirement already satisfied: six>=1.4.0 in c:\\users\\bhupal\\anaconda3\\lib\\site-packages (from APScheduler==3.6.3->python-telegram-bot>=12.1.1->telegram-send) (1.15.0)\n",
      "Requirement already satisfied: tzdata; platform_system == \"Windows\" in c:\\users\\bhupal\\anaconda3\\lib\\site-packages (from tzlocal>=1.2->APScheduler==3.6.3->python-telegram-bot>=12.1.1->telegram-send) (2021.1)\n",
      "Requirement already satisfied: backports.zoneinfo; python_version < \"3.9\" in c:\\users\\bhupal\\anaconda3\\lib\\site-packages (from tzlocal>=1.2->APScheduler==3.6.3->python-telegram-bot>=12.1.1->telegram-send) (0.2.1)\n",
      "Installing collected packages: python-telegram-bot, telegram-send\n",
      "Successfully installed python-telegram-bot-13.7 telegram-send-0.25\n",
      "Note: you may need to restart the kernel to use updated packages.\n"
     ]
    }
   ],
   "source": [
    "pip install telegram-send"
   ]
  },
  {
   "cell_type": "code",
   "execution_count": 65,
   "metadata": {},
   "outputs": [
    {
     "name": "stdout",
     "output_type": "stream",
     "text": [
      "Requirement already satisfied: telegram-send in c:\\users\\bhupal\\anaconda3\\lib\\site-packages (0.25)\n",
      "Requirement already satisfied: colorama in c:\\users\\bhupal\\anaconda3\\lib\\site-packages (from telegram-send) (0.4.4)\n",
      "Requirement already satisfied: python-telegram-bot>=12.1.1 in c:\\users\\bhupal\\anaconda3\\lib\\site-packages (from telegram-send) (13.7)\n",
      "Requirement already satisfied: appdirs in c:\\users\\bhupal\\anaconda3\\lib\\site-packages (from telegram-send) (1.4.4)\n",
      "Requirement already satisfied: APScheduler==3.6.3 in c:\\users\\bhupal\\anaconda3\\lib\\site-packages (from python-telegram-bot>=12.1.1->telegram-send) (3.6.3)\n",
      "Requirement already satisfied: cachetools==4.2.2 in c:\\users\\bhupal\\anaconda3\\lib\\site-packages (from python-telegram-bot>=12.1.1->telegram-send) (4.2.2)\n",
      "Requirement already satisfied: pytz>=2018.6 in c:\\users\\bhupal\\anaconda3\\lib\\site-packages (from python-telegram-bot>=12.1.1->telegram-send) (2020.1)\n",
      "Requirement already satisfied: certifi in c:\\users\\bhupal\\anaconda3\\lib\\site-packages (from python-telegram-bot>=12.1.1->telegram-send) (2020.6.20)\n",
      "Requirement already satisfied: tornado>=6.1 in c:\\users\\bhupal\\anaconda3\\lib\\site-packages (from python-telegram-bot>=12.1.1->telegram-send) (6.1)\n",
      "Requirement already satisfied: tzlocal>=1.2 in c:\\users\\bhupal\\anaconda3\\lib\\site-packages (from APScheduler==3.6.3->python-telegram-bot>=12.1.1->telegram-send) (3.0)\n",
      "Requirement already satisfied: six>=1.4.0 in c:\\users\\bhupal\\anaconda3\\lib\\site-packages (from APScheduler==3.6.3->python-telegram-bot>=12.1.1->telegram-send) (1.15.0)\n",
      "Requirement already satisfied: setuptools>=0.7 in c:\\users\\bhupal\\anaconda3\\lib\\site-packages (from APScheduler==3.6.3->python-telegram-bot>=12.1.1->telegram-send) (50.3.1.post20201107)\n",
      "Requirement already satisfied: backports.zoneinfo; python_version < \"3.9\" in c:\\users\\bhupal\\anaconda3\\lib\\site-packages (from tzlocal>=1.2->APScheduler==3.6.3->python-telegram-bot>=12.1.1->telegram-send) (0.2.1)\n",
      "Requirement already satisfied: tzdata; platform_system == \"Windows\" in c:\\users\\bhupal\\anaconda3\\lib\\site-packages (from tzlocal>=1.2->APScheduler==3.6.3->python-telegram-bot>=12.1.1->telegram-send) (2021.1)\n",
      "Note: you may need to restart the kernel to use updated packages.\n"
     ]
    }
   ],
   "source": [
    "pip install telegram-send"
   ]
  },
  {
   "cell_type": "code",
   "execution_count": 3,
   "metadata": {},
   "outputs": [],
   "source": [
    "import telegram_send\n"
   ]
  },
  {
   "cell_type": "code",
   "execution_count": 5,
   "metadata": {},
   "outputs": [
    {
     "ename": "NameError",
     "evalue": "name 'configure' is not defined",
     "output_type": "error",
     "traceback": [
      "\u001b[1;31m---------------------------------------------------------------------------\u001b[0m",
      "\u001b[1;31mNameError\u001b[0m                                 Traceback (most recent call last)",
      "\u001b[1;32m<ipython-input-5-5216d8e821ce>\u001b[0m in \u001b[0;36m<module>\u001b[1;34m\u001b[0m\n\u001b[1;32m----> 1\u001b[1;33m \u001b[0mtelegram_send\u001b[0m \u001b[1;33m-\u001b[0m\u001b[1;33m-\u001b[0m\u001b[0mconfigure\u001b[0m\u001b[1;33m\u001b[0m\u001b[1;33m\u001b[0m\u001b[0m\n\u001b[0m",
      "\u001b[1;31mNameError\u001b[0m: name 'configure' is not defined"
     ]
    }
   ],
   "source": [
    "telegram_send --configure"
   ]
  },
  {
   "cell_type": "code",
   "execution_count": 9,
   "metadata": {},
   "outputs": [
    {
     "ename": "SyntaxError",
     "evalue": "invalid syntax (<ipython-input-9-834c64ba1c49>, line 1)",
     "output_type": "error",
     "traceback": [
      "\u001b[1;36m  File \u001b[1;32m\"<ipython-input-9-834c64ba1c49>\"\u001b[1;36m, line \u001b[1;32m1\u001b[0m\n\u001b[1;33m    telegram-send --config 'C:\\Users\\bhupal\\Documents\\Python Scripts\\config_file.txt'\u001b[0m\n\u001b[1;37m                           ^\u001b[0m\n\u001b[1;31mSyntaxError\u001b[0m\u001b[1;31m:\u001b[0m invalid syntax\n"
     ]
    }
   ],
   "source": [
    "telegram-send --config 'C:\\Users\\bhupal\\Documents\\Python Scripts\\config_file.txt'"
   ]
  },
  {
   "cell_type": "code",
   "execution_count": 13,
   "metadata": {},
   "outputs": [
    {
     "name": "stdout",
     "output_type": "stream",
     "text": [
      "{'ok': True, 'result': {'message_id': 7, 'from': {'id': 2036188374, 'is_bot': True, 'first_name': 'Bharath_Flipkart_Alerts', 'username': 'Bharath_Flipkart_bot'}, 'chat': {'id': -559486791, 'title': 'Bharath_flipkart_alerts', 'type': 'group', 'all_members_are_administrators': True}, 'date': 1633065070, 'text': 'Hi Bharath'}}\n"
     ]
    }
   ],
   "source": [
    "import requests\n",
    "\n",
    "def telegram_bot_sendtext(bot_message):\n",
    "    \n",
    "    bot_token = '2036188374:AAEXsuaS2hRuGfPIhfNm8D9yZqqOEkX8wM8'\n",
    "    bot_chatID = '-559486791'\n",
    "    send_text = 'https://api.telegram.org/bot' + bot_token + '/sendMessage?chat_id=' + bot_chatID + '&parse_mode=Markdown&text=' + bot_message\n",
    "\n",
    "    response = requests.get(send_text)\n",
    "\n",
    "    return response.json()\n",
    "    \n",
    "\n",
    "test = telegram_bot_sendtext(\"Hi Bharath\")\n",
    "print(test)"
   ]
  },
  {
   "cell_type": "code",
   "execution_count": null,
   "metadata": {},
   "outputs": [],
   "source": []
  },
  {
   "cell_type": "code",
   "execution_count": null,
   "metadata": {},
   "outputs": [],
   "source": []
  },
  {
   "cell_type": "code",
   "execution_count": null,
   "metadata": {},
   "outputs": [],
   "source": []
  },
  {
   "cell_type": "code",
   "execution_count": null,
   "metadata": {},
   "outputs": [],
   "source": []
  },
  {
   "cell_type": "code",
   "execution_count": null,
   "metadata": {},
   "outputs": [],
   "source": []
  },
  {
   "cell_type": "code",
   "execution_count": null,
   "metadata": {},
   "outputs": [],
   "source": []
  },
  {
   "cell_type": "code",
   "execution_count": null,
   "metadata": {},
   "outputs": [],
   "source": []
  },
  {
   "cell_type": "code",
   "execution_count": null,
   "metadata": {},
   "outputs": [],
   "source": []
  },
  {
   "cell_type": "code",
   "execution_count": null,
   "metadata": {},
   "outputs": [],
   "source": []
  },
  {
   "cell_type": "code",
   "execution_count": null,
   "metadata": {},
   "outputs": [],
   "source": []
  },
  {
   "cell_type": "code",
   "execution_count": null,
   "metadata": {},
   "outputs": [],
   "source": []
  },
  {
   "cell_type": "code",
   "execution_count": null,
   "metadata": {},
   "outputs": [],
   "source": []
  },
  {
   "cell_type": "code",
   "execution_count": null,
   "metadata": {},
   "outputs": [],
   "source": []
  },
  {
   "cell_type": "code",
   "execution_count": 52,
   "metadata": {},
   "outputs": [],
   "source": [
    "link_only=[]\n",
    "#str_link=[]\n",
    "for a in soup.find_all(\"a\", {\"class\": \"_1fQZEK\"}, href=True):\n",
    "    full_link='https://www.flipkart.com' + a['href']\n",
    "    link_only.append(full_link)\n",
    "    #link_only =link_only + str_link"
   ]
  },
  {
   "cell_type": "code",
   "execution_count": 55,
   "metadata": {},
   "outputs": [
    {
     "name": "stdout",
     "output_type": "stream",
     "text": [
      "https://www.flipkart.com/samsung-1-5-ton-5-star-split-inverter-ac-white/p/itm7be3c8382d83a?pid=ACNFWYTPZKXTQV2X&lid=LSTACNFWYTPZKXTQV2XJO6LE6&marketplace=FLIPKART&q=Air+conditioners&store=j9e%2Fabm%2Fc54&srno=s_1_2&otracker=search&fm=organic&iid=en_bRzrmCyzbmjc2TszlJxk4p%2B6FPKXof5zMj2SjWunEubuf7ClmtSBdm%2BFuciMZn2H1%2FVFfyvAPQMN%2FwbV0yZRTQ%3D%3D&ppt=None&ppn=None&ssid=95tk1lsjf40000001633055845170&qH=2f6f535165fabc60\n"
     ]
    }
   ],
   "source": [
    "print(link_only[1])"
   ]
  },
  {
   "cell_type": "code",
   "execution_count": null,
   "metadata": {},
   "outputs": [],
   "source": []
  },
  {
   "cell_type": "code",
   "execution_count": null,
   "metadata": {},
   "outputs": [],
   "source": []
  }
 ],
 "metadata": {
  "kernelspec": {
   "display_name": "Python 3",
   "language": "python",
   "name": "python3"
  },
  "language_info": {
   "codemirror_mode": {
    "name": "ipython",
    "version": 3
   },
   "file_extension": ".py",
   "mimetype": "text/x-python",
   "name": "python",
   "nbconvert_exporter": "python",
   "pygments_lexer": "ipython3",
   "version": "3.8.5"
  }
 },
 "nbformat": 4,
 "nbformat_minor": 4
}
