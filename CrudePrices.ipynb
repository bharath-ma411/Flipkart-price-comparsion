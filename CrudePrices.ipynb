{
 "cells": [
  {
   "cell_type": "code",
   "execution_count": 1,
   "metadata": {},
   "outputs": [],
   "source": [
    "import requests\n",
    "import pandas as pd\n",
    "import datetime as dt\n",
    "import os\n",
    "import ast"
   ]
  },
  {
   "cell_type": "code",
   "execution_count": 2,
   "metadata": {},
   "outputs": [],
   "source": [
    "from bs4 import BeautifulSoup"
   ]
  },
  {
   "cell_type": "code",
   "execution_count": 73,
   "metadata": {},
   "outputs": [],
   "source": [
    "localpath = r\"C:\\Users\\bhupal\\Documents\\Python Scripts\\\\\"\n",
    "Base_URL='https://www.moneycontrol.com/commodity/crudeoil-price.html'\n",
    "#pwd=os.getcwd()"
   ]
  },
  {
   "cell_type": "code",
   "execution_count": 74,
   "metadata": {},
   "outputs": [],
   "source": [
    "#Search1=\"Air conditioners\"\n",
    "#Search=Search1.replace(\" \",\"%20\")\n",
    "#tm=str(dt.datetime.now())\n",
    "#newtm=tm.replace(' ','_').replace(':','_').replace('.','_').replace('-','_')\n",
    "#LocalFileName=\"'\"+localpath+'\\\\Laptops_'+newtm+'.txt'+\"'\"\n",
    "#LocalFileName1=LocalFileName+replace(\"\\\\\",\"\\\")\n",
    "#print(LocalFileName1)\n",
    "#print(Search)"
   ]
  },
  {
   "cell_type": "code",
   "execution_count": 75,
   "metadata": {},
   "outputs": [],
   "source": [
    "#Search=\"Mobiles\"\n",
    "#Srch_URL=Base_URL+\"?q=\"+Search\n",
    "#print(Srch_URL)"
   ]
  },
  {
   "cell_type": "code",
   "execution_count": 76,
   "metadata": {},
   "outputs": [],
   "source": [
    "headers={\"User-Agent\":'Mozilla/5.0 (Windows NT 10.0; Win64; x64) AppleWebKit/537.36 (KHTML, like Gecko) Chrome/93.0.4577.82 Safari/537.36'}"
   ]
  },
  {
   "cell_type": "code",
   "execution_count": 112,
   "metadata": {},
   "outputs": [],
   "source": [
    "page=requests.get(Base_URL,headers=headers)\n",
    "soup=BeautifulSoup(page.content, 'html.parser')\n",
    "Price = soup.find_all(\"div\", {\"class\": \"FL brdr PR20 gr_13\"})\n",
    "DT=soup.find_all(\"div\", {\"class\": \"gre12\"})\n",
    "senti_perc=soup.find_all(\"span\", {\"class\": \"grnb_20\"})\n",
    "senti_call=soup.find_all(\"span\", {\"class\": \"gD_18\"})\n",
    "#Price = soup.find_all(\"div\", {\"class\": \"_30jeq3 _1_WHN1\"})\n",
    "#Price_only=[a.text for a in Price ]\n",
    "#Totaldict=dict(zip(Title_only,Price_only))\n",
    "#Pages = soup.find(\"div\", {\"id\": \"cont-1\"})\n",
    "#Children=Pages.findChildren(\"span\",recursive=False)\n",
    "#No_Page=[child for child in Children]\n",
    "#print(No_Page[0].text)\n",
    "#Max_Page=int(No_Page[0].text.rsplit(' ')[3])\n",
    "#print(Max_Page)"
   ]
  },
  {
   "cell_type": "code",
   "execution_count": 107,
   "metadata": {},
   "outputs": [],
   "source": [
    "price = int(Price[0].text.rsplit(' ')[0].rsplit('.')[0])"
   ]
  },
  {
   "cell_type": "code",
   "execution_count": 108,
   "metadata": {},
   "outputs": [
    {
     "name": "stdout",
     "output_type": "stream",
     "text": [
      "5963\n"
     ]
    }
   ],
   "source": [
    "print(price)"
   ]
  },
  {
   "cell_type": "code",
   "execution_count": 113,
   "metadata": {},
   "outputs": [
    {
     "name": "stdout",
     "output_type": "stream",
     "text": [
      "61%\n",
      "selling\n"
     ]
    }
   ],
   "source": [
    "print(senti_perc[0].text)\n",
    "print(senti_call[0].text)"
   ]
  },
  {
   "cell_type": "code",
   "execution_count": 58,
   "metadata": {},
   "outputs": [
    {
     "name": "stdout",
     "output_type": "stream",
     "text": [
      "[]\n"
     ]
    }
   ],
   "source": [
    "print(table)"
   ]
  },
  {
   "cell_type": "code",
   "execution_count": 31,
   "metadata": {},
   "outputs": [
    {
     "name": "stdout",
     "output_type": "stream",
     "text": [
      "\n",
      "\n",
      "\n",
      "\n",
      "<td class=\"rcbInputCell rcbInputCellLeft\" style=\"width:100%;\"><input class=\"rcbInput radPreventDecorate\" id=\"ctl00_cph_InnerContainerRight_C004_ddlLocationArchive_Input\" name=\"ctl00$cph_InnerContainerRight$C004$ddlLocationArchive\" type=\"text\" value=\"ALL\"/></td>\n",
      "<td class=\"rcbArrowCell rcbArrowCellRight\"><a id=\"ctl00_cph_InnerContainerRight_C004_ddlLocationArchive_Arrow\" style=\"overflow: hidden;display: block;position: relative;outline: none;\">select</a></td>\n",
      "\n",
      "\n",
      "\n",
      "\n"
     ]
    }
   ],
   "source": [
    "for child in soup.find_all('table')[4].children:\n",
    "    for td in child:\n",
    "        print(td)"
   ]
  },
  {
   "cell_type": "code",
   "execution_count": null,
   "metadata": {},
   "outputs": [],
   "source": []
  },
  {
   "cell_type": "code",
   "execution_count": null,
   "metadata": {},
   "outputs": [],
   "source": []
  },
  {
   "cell_type": "code",
   "execution_count": null,
   "metadata": {},
   "outputs": [],
   "source": []
  }
 ],
 "metadata": {
  "kernelspec": {
   "display_name": "Python 3",
   "language": "python",
   "name": "python3"
  },
  "language_info": {
   "codemirror_mode": {
    "name": "ipython",
    "version": 3
   },
   "file_extension": ".py",
   "mimetype": "text/x-python",
   "name": "python",
   "nbconvert_exporter": "python",
   "pygments_lexer": "ipython3",
   "version": "3.8.8"
  }
 },
 "nbformat": 4,
 "nbformat_minor": 4
}
