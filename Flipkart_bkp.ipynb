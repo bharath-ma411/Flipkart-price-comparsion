{
 "cells": [
  {
   "cell_type": "code",
   "execution_count": 38,
   "metadata": {},
   "outputs": [],
   "source": [
    "import requests\n",
    "import pandas as pd\n",
    "import datetime as dt\n",
    "import os\n",
    "import ast"
   ]
  },
  {
   "cell_type": "code",
   "execution_count": 39,
   "metadata": {},
   "outputs": [],
   "source": [
    "from bs4 import BeautifulSoup"
   ]
  },
  {
   "cell_type": "code",
   "execution_count": 40,
   "metadata": {},
   "outputs": [],
   "source": [
    "localpath = r\"C:\\Users\\bhupal\\Documents\\Python Scripts\\\\\"\n",
    "Base_URL='https://www.flipkart.com/search'\n",
    "pwd=os.getcwd()"
   ]
  },
  {
   "cell_type": "code",
   "execution_count": 41,
   "metadata": {},
   "outputs": [
    {
     "name": "stdout",
     "output_type": "stream",
     "text": [
      "Air%20conditioners\n"
     ]
    }
   ],
   "source": [
    "Search1=\"Air conditioners\"\n",
    "Search=Search1.replace(\" \",\"%20\")\n",
    "tm=str(dt.datetime.now())\n",
    "newtm=tm.replace(' ','_').replace(':','_').replace('.','_').replace('-','_')\n",
    "LocalFileName=\"'\"+localpath+'\\\\Laptops_'+newtm+'.txt'+\"'\"\n",
    "#LocalFileName1=LocalFileName+replace(\"\\\\\",\"\\\")\n",
    "#print(LocalFileName1)\n",
    "print(Search)"
   ]
  },
  {
   "cell_type": "code",
   "execution_count": 42,
   "metadata": {},
   "outputs": [
    {
     "name": "stdout",
     "output_type": "stream",
     "text": [
      "https://www.flipkart.com/search?q=Air%20conditioners\n"
     ]
    }
   ],
   "source": [
    "#Search=\"Mobiles\"\n",
    "Srch_URL=Base_URL+\"?q=\"+Search\n",
    "print(Srch_URL)"
   ]
  },
  {
   "cell_type": "code",
   "execution_count": 43,
   "metadata": {},
   "outputs": [],
   "source": [
    "headers={\"User-Agent\":'Mozilla/5.0 (Windows NT 10.0; Win64; x64) AppleWebKit/537.36 (KHTML, like Gecko) Chrome/93.0.4577.82 Safari/537.36'}"
   ]
  },
  {
   "cell_type": "code",
   "execution_count": 44,
   "metadata": {},
   "outputs": [
    {
     "name": "stdout",
     "output_type": "stream",
     "text": [
      "29\n"
     ]
    }
   ],
   "source": [
    "page=requests.get(Srch_URL,headers=headers)\n",
    "soup=BeautifulSoup(page.content, 'html.parser')\n",
    "Title = soup.find_all(\"div\", {\"class\": \"_4rR01T\"})\n",
    "Title_only=[a.text for a in Title ]\n",
    "Price = soup.find_all(\"div\", {\"class\": \"_30jeq3 _1_WHN1\"})\n",
    "Price_only=[a.text for a in Price ]\n",
    "#Totaldict=dict(zip(Title_only,Price_only))\n",
    "Pages = soup.find(\"div\", {\"class\": \"_2MImiq\"})\n",
    "Children=Pages.findChildren(\"span\",recursive=False)\n",
    "No_Page=[child for child in Children]\n",
    "#print(No_Page[0].text)\n",
    "Max_Page=int(No_Page[0].text.rsplit(' ')[3])\n",
    "print(Max_Page)"
   ]
  },
  {
   "cell_type": "code",
   "execution_count": 45,
   "metadata": {},
   "outputs": [
    {
     "name": "stdout",
     "output_type": "stream",
     "text": [
      "{'MOTOROLA 1.5 Ton 3 Star Split Dual Inverter AC  - Silver': '₹36,490', 'MOTOROLA 1.5 Ton 3 Star Split Dual Inverter Smart AC with Wi-fi Connect  - Silver': '₹37,490', 'ONIDA 1.5 Ton 5 Star Split Dual Inverter AC  - White': '₹30,990', 'MarQ By Flipkart 1 Ton 3 Star Split AC  - White': '₹19,490', 'Voltas 1.5 Ton 5 Star Split Inverter AC  - White': '₹39,399', 'CARRIER 1.2 Ton 5 Star Split Inverter AC with PM 2.5 Filter  - White': '₹30,490', 'ONIDA 1.5 Ton 3 Star Split Dual Inverter AC  - White': '₹29,490', 'MOTOROLA 2 Ton 3 Star Split Dual Inverter Smart AC with Wi-fi Connect  - Silver': '₹46,990', 'CARRIER 1 Ton 3 Star Split AC  - White': '₹26,990', 'Blue Star 1.2 Ton 3 Star Split Inverter AC  - White': '₹32,490', 'SAMSUNG 1 Ton 4 Star Split Inverter AC  - White': '₹31,568', 'Blue Star 1.5 Ton 3 Star Split AC  - White': '₹33,990', 'Lloyd 1.5 Ton 3 Star Split Inverter AC  - White': '₹34,500', 'CARRIER 1.5 Ton 3 Star Split AC  - White': '₹39,490', 'Godrej 1.5 Ton 3 Star Window AC  - White': '₹24,949', 'Haier 1 Ton Split AC  - White': '₹27,990', 'MarQ By Flipkart 1.5 Ton 3 Star Split AC  - White': '₹27,990', 'Voltas 0.8 Ton 3 Star Split AC  - White': '₹23,890', 'ONIDA 1 Ton 3 Star Split Inverter AC  - White': '₹26,500', 'Whirlpool 4 in 1 Convertible Cooling 1.5 Ton 5 Star Split Inverter AC  - White': '₹37,990', 'Panasonic 1.5 Ton 5 Star Split Inverter Smart AC with PM 2.5 Filter with Wi-fi Connect  - White': '₹40,990', 'Whirlpool 1.5 Ton 3 Star Split AC  - White, Grey': '₹28,990', 'Lloyd 2 Ton 3 Star Split Inverter AC  - White': '₹47,775', 'Lloyd 1 Ton 3 Star Split Inverter AC  - White': '₹29,299', 'Whirlpool 1 Ton 3 Star Split AC  - White, Grey': '₹24,990', 'MarQ By Flipkart 1.5 Ton 5 Star Split Dual Inverter Engineered with Panasonic Technology AC  - White': '₹28,990', 'CARRIER 2 Ton 3 Star Split AC  - White': '₹38,990', 'MOTOROLA 1.5 Ton 5 Star Split Dual Inverter Smart AC with Wi-fi Connect  - Silver': '₹33,990', 'SAMSUNG 1.5 Ton 5 Star Split Inverter AC  - White': '₹59,900', 'Whirlpool 1 Ton 3 Star Split Inverter AC  - White': '₹29,199', 'MarQ By Flipkart 1.5 Ton 3 Star Split Inverter AC  - White': '₹26,990', 'SAMSUNG 1.5 Ton 3 Star Split Inverter AC  - White': '₹39,500', 'Daikin 1.5 Ton 3 Star Split Inverter with PM 2.5 Filter AC with PM 2.5 Filter  - White': '₹38,000', 'LG Convertible 5-in-1 Cooling 1.5 Ton 3 Star Split Dual Inverter AC  - White': '₹35,990', 'Voltas 1 Ton 5 Star Window AC  - White': '₹25,790', 'Hitachi 1 Ton 3 Star Split Inverter AC  - Gold': '₹30,490', 'Voltas 1.5 Ton 3 Star Split AC  - White': '₹33,900', 'LG 1.5 Ton 5 Star Window Smart AC with Wi-fi Connect  - White': '₹33,770', 'LG 1.5 Ton 5 Star Split Dual Inverter AC  - White': '₹44,490', 'Voltas 1.5 Ton 5 Star Window AC  - White': '₹35,800', 'LG Convertible 4-in-1 Cooling 1 Ton 3 Star Split Dual Inverter AC  - White': '₹31,990', 'Lloyd 1.5 Ton 3 Star Window AC  - White': '₹28,500', 'Lloyd 1.5 Ton 5 Star Split Inverter AC with Wi-fi Connect  - White': '₹45,490', 'Voltas 1 Ton 3 Star Split Inverter AC  - White': '₹30,680', 'Blue Star 0.8 Ton 3 Star Split Inverter AC  - White': '₹27,990', 'Daikin 1.5 Ton 5 Star Split Inverter with Anti Microbial Filter AC  - White': '₹42,590', 'Voltas 1.5 Ton 5 Star Split Inverter Maha Adjustable AC  - White, Black': '₹37,020', 'SAMSUNG 1.5 Ton 3 Star Split Inverter AC  - White, Brown': '₹32,990', 'Panasonic 1 Ton 5 Star Split Inverter AC with Wi-fi Connect  - White': '₹41,990', 'Voltas 1.5 Ton 4 Star Split Inverter AC  - White, Brown': '₹33,990', 'Panasonic 1.5 Ton 3 Star Split Inverter AC with Wi-fi Connect  - White': '₹32,279', 'LG 1 Ton 3 Star Split Dual Inverter AC  - White': '₹37,500', 'Midea 1 Ton 3 Star Split AC  - White': '₹23,990', 'LG 1 Ton 5 Star Split Dual Inverter AC  - White': '₹37,690', 'Blue Star 1.5 Ton 5 Star Split Inverter AC  - White': '₹42,799', 'Voltas 1 Ton 3 Star Window AC  - White': '₹23,990', 'LG 1.5 Ton 3 Star Window Dual Inverter AC  - White': '₹27,849', 'CARRIER 4 in 1 Convertible Cooling 2 Ton 5 Star Split Inverter AC with PM 2.5 Filter  - White': '₹50,990', 'MarQ By Flipkart 1 Ton 3 Star Split Inverter AC  - White': '₹24,990', 'LumX 1.5 Ton 3 Star Split AC  - White': '₹25,990', 'LG 1.5 Ton 3 Star Split Dual Inverter AC  - White': '₹35,900', 'LG Convertible 4-in-1 Cooling 1 Ton 5 Star Split Dual Inverter AC  - White': '₹35,490', 'SAMSUNG 1.5 Ton 3 Star Split Inverter AC  - White, Pastel Blue': '₹32,990', 'LG 1.5 Ton 5 Star Split Dual Inverter AC with Wi-fi Connect  - White': '₹55,000', 'IFB 7 Stage Air Treatment 1.5 Ton 5 Star Split Inverter PM 0.3 Filter Gold Series AC  - White': '₹43,990', 'CARRIER 2 Ton 3 Star Split Inverter AC with PM 2.5 Filter  - White': '₹44,990', 'Blue Star 1.5 Ton 4 Star Split Inverter AC  - White': '₹41,900', 'Lloyd 1.5 Ton 3 Star Split AC  - White': '₹30,990', 'SAMSUNG 1.5 Ton 3 Star Split AC  - White': '₹44,490', 'Sansui 1 Ton 3 Star Split AC with PM 2.5 Filter  - White': '₹24,499', 'Whirlpool 1.5 Ton 3 Star Split AC  - White': '₹30,490', 'CARRIER 1 Ton 3 Star Window AC  - White': '₹24,990', 'LG Convertible 5-in-1 Cooling 1.5 Ton 5 Star Split Dual Inverter AC  - White': '₹42,990', 'Daikin 0.8 Ton 3 Star Split with PM 2.5 Filter AC with PM 2.5 Filter  - White': '₹24,999', 'TCL 1.5 Ton 3 Star Split Inverter AC with Wi-fi Connect  - White': '₹30,990', 'Lloyd 1.5 Ton 5 Star Window AC  - White': '₹28,200', 'Daikin 1.5 Ton 4 Star Split Inverter with PM 2.5 Filter AC with PM 2.5 Filter  - White': '₹39,890', 'Midea 1.5 Ton 5 Star Split Inverter AC  - White': '₹35,990', 'LG 1.5 Ton 3 Star Hot and Cold Split Dual Inverter AC  - White': '₹43,490', 'Voltas 1.5 Ton 3 Star Hot and Cold Split Inverter AC  - White': '₹41,890', 'Daikin 1 Ton 3 Star Split AC with PM 2.5 Filter  - White': '₹30,144', 'CARRIER 1 Ton 3 Star Split AC with PM 2.5 Filter  - White': '₹28,490', 'SAMSUNG 1.5 Ton 4 Star Split Inverter AC  - White': '₹34,950', 'Whirlpool 1 Ton 5 Star Split Inverter AC  - White': '₹31,490', 'CARRIER 1.5 Ton 3 Star Split Inverter AC with PM 2.5 Filter  - White': '₹34,990', 'LumX 1.5 Ton 4 Star Split Inverter AC  - White': '₹26,390', 'Daikin 1.5 Ton 3 Star Hot and Cold Split Inverter AC  - White': '₹43,189', 'Daikin 0.75 Ton 3 Star Split AC with PM 2.5 Filter  - White': '₹23,900', 'ONIDA 1.5 Ton 5 Star Split Inverter AC  - White': '₹35,990', 'Godrej 1 Ton 3 Star Split Inverter AC  - White': '₹27,990', 'Godrej 1.5 Ton 3 Star Split AC  - White': '₹29,990', 'MarQ By Flipkart 1.5 Ton 5 Star Window AC  - White': '₹22,990', 'Blue Star 0.75 Ton 3 Star Window AC  - White': '₹20,499', 'Panasonic 1.5 Ton 3 Star Split Inverter AC with PM 2.5 Filter  - White': '₹31,990', 'Voltas 1.5 Ton 4 Star Split Inverter AC  - White': '₹37,790', 'LG 1.5 Ton 4 Star Split Dual Inverter AC  - White': '₹40,350', 'Hitachi 1.5 Ton 3 Star Window AC  - White': '₹26,990', 'TOSHIBA 1.5 Ton 5 Star Split Inverter AC  - White': '₹48,490', 'Daikin 1.5 Ton 3 Star Split with PM 2.5 Filter AC with PM 2.5 Filter  - White': '₹35,800', 'Hitachi 1.5 Ton 5 Star Split Inverter AC  - White, Gold': '₹41,999', 'Lloyd 1.5 Ton 5 Star Split Inverter AC  - White': '₹38,000', 'Midea 1.5 Ton 3 Star Split Inverter AC  - White': '₹31,990', 'Voltas 2 Ton 3 Star Split AC  - White': '₹44,390', 'Hitachi 1 Ton 5 Star Window AC  - White': '₹27,490', 'LG 1 Ton 4 Star Split Dual Inverter AC with Wi-fi Connect  - White': '₹38,990', 'Blue Star 1.5 Ton 5 Star Window AC  - White': '₹31,990', 'Midea 1 Ton 3 Star Split Inverter AC  - White, Grey': '₹25,990', 'Lloyd . 1.5 Ton 5 Star Split Inverter with PM 2.5 Filter AC  - White': '₹36,990', 'LG Convertible 5-in-1 Cooling 2 Ton 3 Star Split Dual Inverter AC  - White': '₹50,990', 'Voltas 1.5 Ton 3 Star Window AC  - White': '₹27,440', 'Godrej 1.5 Ton 3 Star Split Inverter AC  - White': '₹32,499', 'Panasonic 1.5 Ton Window AC  - White': '₹25,750', 'Daikin 1.5 Ton 5 Star Split Inverter AC  - White': '₹45,999', 'Panasonic 1 Ton 3 Star Split Inverter AC  - White': '₹31,990', 'Hitachi 1.5 Ton 3 Star Split AC  - White': '₹34,990', 'Panasonic 1 Ton 5 Star Window AC  - White': '₹26,175', 'Haier 1.25 Ton 3 Star Split Inverter AC  - White': '₹29,990', 'Godrej 1.25 Ton 3 Star Split Inverter AC  - White, Brown': '₹29,990', 'IFB 7 Stage Air Treatment 1.5 Ton 3 Star Split Inverter PM 0.3 Filter Silver Series AC  - White': '₹37,490', 'Blue Star 2 Ton 3 Star Split AC  - White': '₹43,900', 'CARRIER 1.2 Ton 3 Star Split Inverter AC  - White': '₹29,990', 'IFB 7 Stage Air Treatment 1 Ton 3 Star Split Inverter PM 0.3 Filter Silver Series AC  - White': '₹32,490', 'MarQ By Flipkart 1.5 Ton 3 Star Window AC  - White': '₹23,990', 'Daikin 2 Ton 3 Star Split Inverter AC  - White': '₹57,855', 'Godrej 2 Ton 3 Star Window AC  - White': '₹32,990', 'LG 2 Ton 3 Star Split Dual Inverter AC  - White': '₹54,490', 'IFB 7 Stage Air Treatment 2 Ton 3 Star Split Inverter PM 0.3 Filter Silver Series AC  - White': '₹44,990', 'IFFALCON by TCL 2 Ton 3 Star Split Dual Inverter AC  - White': '₹37,990', 'LG 1.5 Ton 5 Star Split Inverter AC with Wi-fi Connect  - White': '₹44,349', 'Daikin 1 Ton 3 Star Split Inverter with PM 2.5 Filter AC with PM 2.5 Filter  - White': '₹32,999', 'TCL 2 Ton 3 Star Split Inverter AC  - White': '₹37,499', 'Hitachi 2 Ton 2 Star Window AC  - White': '₹33,990', 'Whirlpool 1.5 Ton 3 Star Split Inverter AC  - White': '₹34,100', 'Midea 1 Ton 3 Star Split Inverter AC  - White': '₹25,490', 'Hitachi 1.5 Ton 5 Star Window Inverter AC  - White': '₹37,490', 'Voltas 2 in 1 Convertible Cooling 1.2 Ton 3 Star Split Inverter AC  - White': '₹31,990', 'CARRIER 1.5 Ton 3 Star Window AC  - White': '₹27,490', 'Daikin 1 Ton 3 Star Split Inverter AC  - White': '₹30,400', 'Nokia 4 in 1 Convertible Cooling 1.5 Ton 3 Star Split Triple Inverter AC  - White': '₹34,990', 'TOSHIBA 1.8 Ton 3 Star Split AC  - White': '₹44,000', 'Lloyd 1 Ton 3 Star Split AC  - White': '₹32,669', 'SAMSUNG 1 Ton 3 Star Split AC  - White': '₹28,490', 'Midea 2 Ton 3 Star Split Inverter AC  - White': '₹39,490', 'Blue Star 2 Ton 3 Star Split Inverter AC  - White': '₹54,990', 'Daikin 1.5 Ton 3 Star Split Inverter AC  - White': '₹36,343', 'ONIDA 2 Ton 3 Star Split Dual Inverter AC  - White': '₹38,990', 'Daikin 1.5 Ton 5 Star Window AC  - White': '₹31,290', 'Blue Star 1.5 Ton Split Inverter AC  - White': '₹36,990', 'Daikin 1.5 Ton 3 Star Split AC  - White': '₹35,390', 'Blue Star 1 Ton 3 Star Window AC  - White': '₹23,490', 'Panasonic 1.5 Ton 4 Star Split Inverter AC  - White': '₹35,500', 'LG 1 Ton 3 Star Split Inverter AC  - White': '₹34,000', 'CARRIER 1.5 Ton Split Inverter AC  - White': '₹36,890', 'IFFALCON by TCL 2 Ton 3 Star Split Dual Inverter Smart AC with Wi-fi Connect  - White': '₹39,990', 'Daikin 0.8 Ton 3 Star Split AC  - White': '₹25,449', 'Voltas 2 in 1 Convertible Cooling 1.6 Ton 3 Star Split Inverter AC  - White': '₹34,990', 'IFB 2 Ton 3 Star Split AC  - White': '₹40,500', 'ONIDA 1 Ton Split Dual Inverter Expandable AC  - White': '₹26,629', 'LG 1.5 Ton 4 Star Split Dual Inverter Smart AC with Wi-fi Connect  - White': '₹36,900', 'Voltas 1.5 Ton Split Inverter AC  - White': '₹35,399', 'IFFALCON by TCL 1.5 Ton 3 Star Split Dual Inverter AC  - White': '₹28,990', 'CARRIER 4 in 1 Convertible Cooling 1.2 Ton 5 Star Split Inverter AC  - White': '₹35,990', 'TOSHIBA 1.8 Ton 5 Star Split Inverter AC  - White': '₹59,490', 'Hisense 1 Ton 3 Star Split Inverter Smart AC with Wi-fi Connect  - White': '₹28,490', 'Lloyd 2 Ton Split AC  - White': '₹42,590', 'Lloyd 1 Ton 5 Star Split Inverter AC  - White': '₹33,500', 'TOSHIBA 1 Ton 5 Star Split Inverter AC  - White': '₹38,990', 'Hitachi 1 Ton 3 Star Window AC  - White': '₹23,990', 'Daikin 1.8 Ton 2 Star Split AC  - White': '₹43,949', 'CARRIER 1.5 Ton 5 Star Window AC  - White': '₹31,990', 'LG 1 Ton 4 Star Split Dual Inverter Smart AC with Wi-fi Connect  - White, Brown': '₹37,490', 'SAMSUNG 1.5 Ton 3 Star Split Inverter AC  - White, Blue': '₹32,990', 'Panasonic 2 Ton 5 Star Split Inverter Smart AC with PM 2.5 Filter with Wi-fi Connect  - White': '₹53,990', 'Blue Star 1.5 Ton 3 Star Split Inverter AC  - White': '₹37,999', 'ONIDA 1 Ton 3 Star Split Inverter Smart AC with Wi-fi Connect  - Silver, White': '₹27,990', 'LG 1 Ton 4 Star Split Dual Inverter AC  - White': '₹48,000', 'ONIDA 1.5 Ton Split Dual Inverter Expandable AC  - White': '₹39,399', 'Voltas 1.5 Ton Split Inverter AC with Wi-fi Connect  - White': '₹33,850', 'Daikin 1.5 Ton 3 Star Split AC  - White, Grey': '₹34,930', 'SAMSUNG 1 Ton 3 Star Split Triple Inverter AC  - White, Blue': '₹31,490', 'CARRIER 1 Ton 3 Star Split Inverter AC  - White': '₹33,490', 'Hitachi 2 Ton 3 Star Split Inverter AC  - White': '₹49,500', 'Panasonic 1.5 Ton 3 Star Split Inverter Smart AC with PM 2.5 Filter with Wi-fi Connect  - White': '₹35,899', 'LG 1.5 Ton 3 Star Split Inverter AC  - White': '₹37,000', 'Lloyd 1 Ton 3 Star Window AC  - White': '₹23,499', 'MarQ By Flipkart 1.5 Ton 5 Star Split Dual Inverter AC with Wi-fi Connect  - White': '₹34,490', 'Haier 2 Ton 1 Star Split AC  - White': '₹38,490', 'Daikin 1.8 Ton 3 Star Split Inverter with AG Ion Filter AC  - White': '₹49,990', 'Panasonic 1 Ton 5 Star Split Inverter AC  - White': '₹49,490', 'Blue Star 1 Ton 3 Star Split Inverter AC  - White, Gold': '₹31,900', 'Panasonic 1.5 Ton 5 Star Split Inverter AC  - White': '₹47,000', 'CARRIER 1.5 Ton 3 Star Split Inverter AC  - White': '₹36,990', 'Daikin 1.5 Ton 3 Star Split AC with PM 2.5 Filter  - White': '₹35,299', 'Whirlpool 2 Ton 3 Star Split Inverter AC  - White': '₹38,990', 'Whirlpool 1.5 Ton Split Inverter AC  - White': '₹35,000', 'Haier 1.5 Ton 3 Star Window AC  - White': '₹24,586', 'Daikin 1.8 Ton 3 Star Split Inverter AC  - White': '₹55,999', 'CARRIER 2 Ton 3 Star Split Inverter AC  - White': '₹42,490', 'Intex 1.5 Ton 5 Star Window AC  - White': '₹23,490', 'Whirlpool 1 Ton 4 Star Split AC  - White': '₹33,500', 'CARRIER 1.5 Ton 3 Star Split AC with PM 2.5 Filter  - White': '₹30,990', 'Godrej 1.5 Ton 5 Star Split Inverter AC  - White': '₹38,399', 'Daikin 1 Ton 4 Star Split Inverter AC  - White': '₹38,000', 'Blue Star 2 Ton 3 Star Window AC  - White': '₹36,780', 'Voltas 1.5 Ton Solar PCU Split Inverter AC  - White': '₹34,960', 'Panasonic 1.5 Ton 5 Star Split Inverter AC with Wi-fi Connect  - White': '₹46,999', 'Daikin 1 Ton 3 Star Window AC  - White': '₹24,674', 'Haier 1.5 Ton 4 Star Split Triple Inverter AC  - White': '₹34,390', 'LG 1.5 Ton Split Dual Inverter AC  - White': '₹35,790', 'Panasonic 1 Ton 3 Star Window AC  - White': '₹23,990', 'Voltas 1 Ton 3 Star Split AC  - White': '₹30,284', 'Blue Star 1.5 Ton 3 Star Window AC  - White': '₹27,400', 'Haier 1.5 Ton 5 Star Split Inverter AC  - White': '₹34,990', 'Whirlpool 1.5 Ton 5 Star Split Inverter AC  - White': '₹40,199', 'Panasonic 1 Ton Split Inverter AC  - White': '₹36,490', 'Panasonic 1.5 Ton 5 Star Window AC  - White': '₹29,190', 'CARRIER 1.5 Ton 3 Star Split Inverter AC  - White, Black': '₹38,990', 'LumX 1.5 Ton 3 Star Split Inverter AC  - White': '₹26,990', 'Sansui 1.5 Ton 3 Star Split AC with PM 2.5 Filter  - White': '₹28,990', 'LG 1.5 Ton 3 Star Split Dual Inverter AC  - Floral White': '₹43,500', 'Godrej 1 Ton 3 Star Window AC  - White': '₹23,990', 'Panasonic 1.5 Ton 4 Star Split Inverter AC with Wi-fi Connect  - White': '₹38,715', 'Sansui 1.5 Ton 5 Star Split Triple Inverter AC with PM 2.5 Filter  - White, Gold': '₹33,990', 'LG 1 Ton 5 Star Split Dual Inverter AC  - Floral White': '₹41,490', 'Blue Star 1.5 Ton 5 Star Window Inverter AC  - White': '₹36,999', 'Voltas 1.5 Ton 3 Star Split Inverter AC  - White': '₹35,490', 'Panasonic 1.5 Ton 3 Star Split Inverter AC  - White': '₹35,889', 'Blue Star 1 Ton 5 Star Split Inverter AC  - White': '₹36,990', 'SAMSUNG 1 Ton 3 Star Split AC  - White, Blue': '₹34,990', 'Lloyd 1 Ton 3 Star Split Inverter Smart AC with Wi-fi Connect  - White': '₹28,990', 'Blue Star 1.5 Ton 5 Star Split AC  - White': '₹43,990', 'Panasonic 1 Ton 3 Star Split Inverter Smart AC with PM 2.5 Filter with Wi-fi Connect  - White': '₹37,969', 'Lloyd 1 Ton 3 Star Split AC with PM 2.5 Filter  - White': '₹27,895', 'Blue Star 1 Ton Split Inverter AC  - White': '₹32,999', 'Daikin 1 Ton 5 Star Window AC  - White': '₹27,490', 'LG 1.5 Ton 5 Star Split Dual Inverter AC  - White, Maroon': '₹46,500', 'SAMSUNG 1 Ton 3 Star Split Inverter AC  - White': '₹36,500', 'Haier 1.5 Ton Split Inverter Expandable AC  - White': '₹32,990', 'Whirlpool 4 in 1 Convertible Cooling 1 Ton 5 Star Split Inverter AC  - White': '₹33,990', 'Hisense 1.5 Ton 3 Star Split Inverter Smart AC with Wi-fi Connect  - White': '₹31,990', 'Daikin 1.5 Ton 3 Star Window AC  - White': '₹27,800', 'LG 1.5 Ton Split Inverter AC  - White': '₹44,999', 'Blue Star 1 Ton 3 Star Split Inverter AC  - Silver, White': '₹31,500', 'Godrej 1 Ton 3 Star Split AC  - White': '₹27,900', 'Godrej 1 Ton 5 Star Split Inverter AC  - Silver': '₹46,500', 'Blue Star 2 Ton 5 Star Split Inverter AC  - White': '₹54,000', 'Blue Star 1 Ton 3 Star Split AC  - White': '₹29,490', 'O General 2 Ton 3 Star Split Inverter AC  - White': '₹60,990', 'Sansui 1.5 Ton 3 Star Split Dual Inverter AC with PM 2.5 Filter  - White, Gold': '₹30,490', 'CARRIER 4 in 1 Convertible Cooling 1.5 Ton 5 Star Split Inverter AC with PM 2.5 Filter  - White': '₹40,990', 'Daikin 1.8 Ton 4 Star Split Inverter AC  - White': '₹55,235', 'SAMSUNG 2 Ton 4 Star Split Inverter AC  - White': '₹49,999', 'Intex 1.5 Ton 3 Star Window AC  - White': '₹23,490', 'Hitachi 1.5 Ton Split Expandable AC  - White': '₹33,199', 'IFFALCON by TCL 1.5 Ton 5 Star Split Dual Inverter Smart AC with Wi-fi Connect  - White': '₹36,990', 'Voltas 2 Ton Split Inverter AC  - White': '₹44,870', 'Daikin 1 Ton Split Inverter AC  - White': '₹37,899', 'Blue Star 1 Ton 3 Star Split Inverter AC  - White': '₹32,490', 'Hitachi 2 Ton 3 Star Split Inverter AC  - White, Gold': '₹43,419', 'Hitachi 1.2 Ton 3 Star Split Smart AC with Wi-fi Connect  - White': '₹31,500', 'Lloyd 1 Ton 5 Star Split Inverter AC with Wi-fi Connect  - White': '₹40,500', 'Hitachi 1.5 Ton 5 Star Window AC  - White': '₹31,990', 'Godrej 2 Ton 3 Star Split Inverter AC  - White': '₹48,990', 'Nokia 4 in 1 Convertible Cooling 1 Ton 3 Star Split Inverter AC  - White': '₹30,990', 'Lloyd 1.5 Ton 5 Star Split Inverter AC with PM 2.5 Filter  - White': '₹39,900', 'Godrej 1 Ton 5 Star Window AC  - White': '₹25,980', 'LG 1.5 Ton 5 Star Split Inverter AC  - White': '₹46,388', 'Blue Star 1 Ton 5 Star Window AC  - White': '₹25,990', 'LG 1 Ton 5 Star Split Inverter AC  - White': '₹37,990', 'Croma 1.5 Ton 3 Star Window AC  - White': '₹27,090', 'Haier 1 Ton 3 Star Split AC  - White': '₹29,000', 'Croma 1.5 Ton 3 Star Split AC  - White': '₹31,890', 'Panasonic 1.5 Ton 5 Star Split AC with Wi-fi Connect  - White': '₹48,514', 'Voltas 1.2 Ton 3 Star Split Inverter AC  - White': '₹29,990', 'Panasonic 2 Ton 4 Star Split AC with Wi-fi Connect  - White': '₹51,395', 'Panasonic 1.5 Ton Split AC with Wi-fi Connect  - White': '₹43,395', 'Hitachi 1 Ton 3 Star Split Inverter AC  - White': '₹31,934', 'Hisense 1.5 Ton 5 Star Split Inverter Smart AC with Wi-fi Connect  - White': '₹35,990', 'Nokia 4 in 1 Convertible Cooling 1.5 Ton 5 Star Split Triple Inverter Smart AC with Wi-fi Connect  - W...': '₹39,990', 'Panasonic 2.2 Ton 4 Star Split Inverter AC  - White': '₹58,180', 'MarQ By Flipkart 2 Ton 3 Star Split Inverter AC  - White': '₹32,490', 'Lloyd 1.5 Ton 3 Star Split Expandable AC  - White': '₹31,990', 'Blue Star 1 Ton 5 Star Split Inverter AC  - White, Brown': '₹40,000', 'Panasonic 1 Ton 3 Star Split AC  - White': '₹32,415', 'Hitachi 1.1 Ton 5 Star Window AC  - White': '₹30,900', 'Panasonic 1 Ton 3 Star Split AC with Wi-fi Connect  - White': '₹33,614', 'Croma 1.5 Ton 3 Star Split Inverter AC  - White, Grey': '₹32,990', 'Croma 1 Ton 3 Star Split Inverter AC  - White, Grey': '₹30,890', 'CARRIER 1.5 Ton Window AC  - White': '₹31,375', 'Whirlpool 4 in 1 Convertible Cooling 1 Ton 3 Star Split Inverter AC  - White': '₹29,990', 'Lloyd 1.5 Ton 3 Star Split Inverter AC with Wi-fi Connect  - White': '₹33,490', 'Nokia 4 in 1 Convertible Cooling 1.5 Ton 3 Star Split Triple Inverter Smart AC with Wi-fi Connect  - W...': '₹29,490', 'White Westing House 2 Ton 3 Star Split AC  - White': '₹54,490', 'IFB 1.5 Ton 3 Star Split Dual Inverter AC  - White': '₹34,990', 'Lloyd 2 Ton 5 Star Split Inverter AC  - White': '₹51,999', 'White Westing House 2 Ton 3 Star Split Inverter AC  - White': '₹54,990', 'Hitachi 1.5 Ton 5 Star Split Inverter Expandable AC  - Gold': '₹42,799', 'ONIDA 1.5 Ton 3 Star Split Inverter AC  - White': '₹29,490', 'Whirlpool 4 in 1 Convertible Cooling 1.5 Ton 3 Star Split Inverter AC  - White': '₹30,990', 'Blue Star 1.5 Ton 3 Star Split Inverter AC  - White, Gold': '₹37,850', 'Hitachi 2 Ton Window Inverter AC  - White': '₹34,490', 'Voltas 0.75 Ton 2 Star Window AC  - White': '₹18,990', 'Daikin 1.8 Ton Split Inverter AC  - White': '₹48,899', 'Micromax 1 Ton 3 Star Split AC  - White': '₹27,499', 'Panasonic 2 Ton 3 Star Split Inverter AC with Wi-fi Connect  - White': '₹53,990', 'Lloyd 1 Ton 3 Star Split Inverter AC with Wi-fi Connect  - White': '₹35,500', 'Lloyd 1 Ton Split Inverter Expandable AC  - White': '₹34,900', 'Blue Star 2 Ton Split AC  - White': '₹47,699', 'TOSHIBA 1.5 Ton 3 Star Split AC  - White': '₹34,990', 'Croma 1.5 Ton 3 Star Split Inverter AC  - White': '₹33,250', 'Hitachi 1.5 Ton 3 Star Split Inverter Expandable AC  - White': '₹40,500', 'LG 1.5 Ton 5 Star Split Dual Inverter Smart AC with Wi-fi Connect  - White': '₹41,399', 'LIVPURE 1.5 Ton 5 Star Split Inverter Smart AC with Wi-fi Connect  - White': '₹36,990', 'Panasonic 2 Ton 3 Star Split Inverter AC  - White': '₹54,500', 'Daikin 2.2 Ton 3 Star Split Inverter AC  - White': '₹63,500', 'Haier 1.5 Ton 2 Star Split AC  - White': '₹29,990', 'Hitachi 1 Ton 3 Star Split AC  - White': '₹34,599', 'LIVPURE 1.5 Ton 3 Star Split Inverter Smart AC with Wi-fi Connect  - White': '₹33,990', 'Haier 1.5 Ton 3 Star Split Inverter AC  - White, Brown': '₹46,429', 'Voltas 2 Ton 2 Star Window AC  - White': '₹33,490', 'Nokia 4 in 1 Convertible Cooling 2 Ton 3 Star Split Triple Inverter Smart AC with Wi-fi Connect  - Whi...': '₹43,990', 'Haier 1 Ton 3 Star Split Inverter AC  - White, Brown': '₹40,429', 'Blue Star 1 Ton Portable AC  - White, Grey': '₹27,490', 'Hitachi 1.5 Ton Split Inverter AC  - Gold': '₹36,500', 'CARRIER Hybridjet 1.5 Ton 3 Star Split Inverter AC  - White': '₹36,490', 'Croma 1.5 Ton 5 Star Split Inverter AC  - White, Grey': '₹37,990', 'Hisense 2 Ton 5 Star Split Inverter AC  - White': '₹48,990', 'IFFALCON by TCL 1 Ton 3 Star Split Inverter AC  - White': '₹25,490', 'Hitachi 1.5 Ton 3 Star Split Inverter AC  - Gold': '₹35,990', 'LIVPURE 1 Ton 3 Star Split Inverter Smart AC with Wi-fi Connect  - White': '₹38,990', 'Sansui 1.5 Ton 3 Star Split Triple Inverter AC with PM 2.5 Filter  - White': '₹32,490', 'IFB 1 Ton 3 Star Split Inverter AC  - White': '₹33,599', 'IFFALCON by TCL 1.5 Ton 3 Star Split Dual Inverter Smart AC with Wi-fi Connect  - White': '₹30,990', 'Sansui 1 Ton 3 Star Split Inverter AC with PM 2.5 Filter  - White': '₹27,990', 'LG 1.5 Ton 3 Star Split Inverter AC  - White, Grey': '₹40,990', 'Haier 2 Ton 3 Star Split Inverter AC  - White': '₹42,490', 'Haier 1.5 Ton 4 Star Split Inverter AC  - White': '₹38,494', 'IMPEX 1.5 Ton 3 Star Split Inverter AC  - White': '₹42,399', 'O General 1 Ton 3 Star Split AC  - White': '₹39,990', 'SAMSUNG 1 Ton 5 Star Split Inverter AC  - White': '₹47,490', 'Haier 1.5 Ton 3 Star Split Inverter AC  - White': '₹30,990', 'Hitachi 1 Ton 5 Star Split Inverter AC  - Gold': '₹35,490', 'Whirlpool 1.5 Ton 5 Star Window AC  - White': '₹30,490', 'Lloyd 1.5 Ton 5 Star Window Inverter AC  - White': '₹34,730', 'Daikin 1.5 Ton 5 Star Split Inverter with Anti Microbial Filter AC with Wi-fi Connect  - White': '₹49,999', 'Daikin 1.8 Ton 5 Star Split Inverter AC  - White': '₹65,830', 'Voltas 1.5 Ton 4 Star Hot and Cold Split Inverter AC  - White': '₹41,400', 'Daikin 1 Ton 5 Star Split Inverter AC  - White': '₹42,999', 'O General 2 Ton 5 Star Split Inverter AC  - White': '₹69,490', 'Blue Star 1 Ton Split Inverter AC  - White + Champagne Gold': '₹36,999', 'O General 1.5 Ton 3 Star Split AC  - White': '₹50,499', 'Blue Star 2 Ton 2 Star Window AC  - White': '₹33,990', 'O General 2 Ton 4 Star Split Inverter AC  - White': '₹84,999', 'Hitachi 1.5 Ton Window AC  - White': '₹27,650', 'TOSHIBA 1 Ton 3 Star Split Inverter AC  - White': '₹34,490', 'O General 1.5 Ton 5 Star Split Inverter AC  - White': '₹55,499', 'Hitachi 1.5 Ton 5 Star Split Inverter AC  - White': '₹48,914', 'Hitachi 1.8 Ton 3 Star Split Inverter AC  - White': '₹43,395', 'Hitachi 2 Ton 3 Star Split AC  - White': '₹52,885', 'Croma 1 Ton 3 Star Split AC  - White': '₹26,990', 'CARRIER 1 Ton 3 Star Split Inverter AC  - White, Black': '₹34,990', 'Croma 1 Ton 3 Star Window AC  - White': '₹24,190', 'Croma 1.5 Ton 5 Star Window AC  - White': '₹29,990', 'Haier 1 Ton 3 Star Split Inverter AC  - White': '₹26,190', 'Lloyd 1 Ton 5 Star Split Inverter AC with Wi-fi Connect  - Print White': '₹35,094', 'O General 1.8 Ton 3 Star Split AC  - White': '₹63,499', 'TOSHIBA 1.5 Ton 3 Star Split Inverter AC  - White': '₹39,990', 'TCL 1.5 Ton 3 Star Split Inverter AC  - White': '₹28,999', 'Hitachi 2 Ton 5 Star Split Inverter AC  - White, Gold': '₹58,005', 'Voltas 1 Ton 5 Star Split Inverter AC  - White': '₹35,590', 'Croma 1 Ton 3 Star Split Inverter AC  - White': '₹29,490', 'TCL 1 Ton 3 Star Split Inverter AC  - White': '₹27,990', 'Blue Star 1 Ton 4 Star Split Inverter AC  - White': '₹39,990'}\n",
      "Blue Star 1.5 Ton Split Inverter AC  - White priced at ₹56990 is now dropped to 36990\n",
      "Panasonic 1.5 Ton 4 Star Split Inverter AC  - White priced at ₹40990 is now dropped to 35500\n"
     ]
    }
   ],
   "source": [
    "i=2\n",
    "Final_Title_only=Title_only\n",
    "Final_Price_only=Price_only\n",
    "#Finaldict=Search+\"Finaldict\"\n",
    "#print(Finaldict)\n",
    "Finaldict={}\n",
    "while i <= int(Max_Page):\n",
    "    counter=str(i)\n",
    "    Page_Srch_URL=Srch_URL+\"&page=\"+counter\n",
    "    page1=requests.get(Page_Srch_URL,headers=headers)\n",
    "    soup=BeautifulSoup(page1.content, 'html.parser')\n",
    "    Title1 = soup.find_all(\"div\", {\"class\": \"_4rR01T\"})\n",
    "    Title_only1=[a.text for a in Title1 ]\n",
    "    Final_Title_only=Final_Title_only+Title_only1\n",
    "    Price1 = soup.find_all(\"div\", {\"class\": \"_30jeq3 _1_WHN1\"})\n",
    "    Price_only1=[a.text for a in Price1 ]\n",
    "    Final_Price_only=Final_Price_only+Price_only1\n",
    "    i+=1\n",
    "Finaldict=dict(zip(Final_Title_only,Final_Price_only))\n",
    "#print(Finaldict)\n",
    "\n",
    "#Read from prev \n",
    "with open(localpath  + Search + '_' + 'prev' + '.txt',encoding=\"utf-8\") as f:\n",
    "    data = f.read()\n",
    "    Finaldict1 = ast.literal_eval(data)\n",
    "    f.close()\n",
    "\n",
    "#print(Finaldict1)\n",
    "\n",
    "#write to prev and date file\n",
    "\n",
    "with open(localpath  + Search + '_' + newtm + '.txt' ,'w',encoding=\"utf-8\") as data: \n",
    "      data.write(str(Finaldict))\n",
    "        \n",
    "with open(localpath  + Search + '_' + 'prev' + '.txt' ,'w',encoding=\"utf-8\") as data: \n",
    "      data.write(str(Finaldict))\n",
    "        \n",
    "\n",
    "#Comparsion from previous to current\n",
    "ResultDict={}\n",
    "for item in Finaldict.keys():\n",
    "    for item1 in Finaldict1.keys():\n",
    "        if item==item1:\n",
    "            price1=(Finaldict1[item1].replace('₹','').replace(',',''))\n",
    "            price2=(Finaldict[item].replace('₹','').replace(',',''))\n",
    "            diff=int(price1)-int(price2)\n",
    "            ResultDict[item]=[int(Finaldict1[item1].replace('₹','').replace(',','')),int(Finaldict[item].replace('₹','').replace(',','')),diff]\n",
    "            \n",
    "        \n",
    "        \n",
    "outputDict={}\n",
    "for item in ResultDict.keys():\n",
    "    if ResultDict[item][2]!=0:\n",
    "        perc=(ResultDict[item][2]/ResultDict[item][0])*100\n",
    "        if perc > 10:\n",
    "            outputDict[item]=[ResultDict[item][0],perc]\n",
    "            print(item +' priced at ₹'+ str(ResultDict[item][0]) + ' is now dropped to ' + str(ResultDict[item][1]) )\n",
    "            \n",
    "#Finaldict1=Finaldict"
   ]
  },
  {
   "cell_type": "code",
   "execution_count": null,
   "metadata": {},
   "outputs": [],
   "source": []
  },
  {
   "cell_type": "code",
   "execution_count": null,
   "metadata": {},
   "outputs": [],
   "source": []
  }
 ],
 "metadata": {
  "kernelspec": {
   "display_name": "Python 3",
   "language": "python",
   "name": "python3"
  },
  "language_info": {
   "codemirror_mode": {
    "name": "ipython",
    "version": 3
   },
   "file_extension": ".py",
   "mimetype": "text/x-python",
   "name": "python",
   "nbconvert_exporter": "python",
   "pygments_lexer": "ipython3",
   "version": "3.8.8"
  }
 },
 "nbformat": 4,
 "nbformat_minor": 4
}
