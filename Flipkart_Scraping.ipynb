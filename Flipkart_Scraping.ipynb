{
 "cells": [
  {
   "cell_type": "code",
   "execution_count": 2,
   "metadata": {},
   "outputs": [
    {
     "name": "stdout",
     "output_type": "stream",
     "text": [
      "Collecting autoscraper\n",
      "Note: you may need to restart the kernel to use updated packages.\n",
      "  Downloading autoscraper-1.1.12-py3-none-any.whl (10 kB)\n",
      "Requirement already satisfied: lxml in c:\\users\\bhupal\\anaconda3\\lib\\site-packages (from autoscraper) (4.6.1)\n",
      "Requirement already satisfied: requests in c:\\users\\bhupal\\anaconda3\\lib\\site-packages (from autoscraper) (2.24.0)\n",
      "Requirement already satisfied: bs4 in c:\\users\\bhupal\\anaconda3\\lib\\site-packages (from autoscraper) (0.0.1)\n",
      "Requirement already satisfied: urllib3!=1.25.0,!=1.25.1,<1.26,>=1.21.1 in c:\\users\\bhupal\\anaconda3\\lib\\site-packages (from requests->autoscraper) (1.25.11)\n",
      "Requirement already satisfied: idna<3,>=2.5 in c:\\users\\bhupal\\anaconda3\\lib\\site-packages (from requests->autoscraper) (2.10)\n",
      "Requirement already satisfied: chardet<4,>=3.0.2 in c:\\users\\bhupal\\anaconda3\\lib\\site-packages (from requests->autoscraper) (3.0.4)\n",
      "Requirement already satisfied: certifi>=2017.4.17 in c:\\users\\bhupal\\anaconda3\\lib\\site-packages (from requests->autoscraper) (2020.6.20)\n",
      "Requirement already satisfied: beautifulsoup4 in c:\\users\\bhupal\\anaconda3\\lib\\site-packages (from bs4->autoscraper) (4.9.3)\n",
      "Requirement already satisfied: soupsieve>1.2; python_version >= \"3.0\" in c:\\users\\bhupal\\anaconda3\\lib\\site-packages (from beautifulsoup4->bs4->autoscraper) (2.0.1)\n",
      "Installing collected packages: autoscraper\n",
      "Successfully installed autoscraper-1.1.12\n"
     ]
    }
   ],
   "source": [
    "pip install autoscraper"
   ]
  },
  {
   "cell_type": "code",
   "execution_count": 8,
   "metadata": {},
   "outputs": [],
   "source": [
    "from autoscraper import AutoScraper"
   ]
  },
  {
   "cell_type": "code",
   "execution_count": 70,
   "metadata": {},
   "outputs": [],
   "source": [
    "flip_url='https://www.flipkart.com/search?q=washing%20machines'"
   ]
  },
  {
   "cell_type": "code",
   "execution_count": 76,
   "metadata": {},
   "outputs": [],
   "source": [
    "wanted_list=[\"SAMSUNG 10 kg with Wobble Technology Fully Automatic Top Load Grey\",\"₹25,490\",\"4.4\",\"902 Ratings & 104 Reviews\"]"
   ]
  },
  {
   "cell_type": "code",
   "execution_count": 77,
   "metadata": {},
   "outputs": [],
   "source": [
    "scraper=AutoScraper()"
   ]
  },
  {
   "cell_type": "code",
   "execution_count": 78,
   "metadata": {},
   "outputs": [],
   "source": [
    "result=scraper.build(flip_url,wanted_list)"
   ]
  },
  {
   "cell_type": "code",
   "execution_count": 79,
   "metadata": {},
   "outputs": [
    {
     "name": "stdout",
     "output_type": "stream",
     "text": [
      "['₹22,899', '₹13,900', '₹9,999', '₹15,990', '₹14,999', '₹7,499', '₹13,799', '₹13,990', '₹6,999', '₹17,490', '₹35,599', '₹11,790', '₹9,790', '₹9,490', '₹55,000', '₹10,790', '₹25,490', '₹23,990', '₹24,799', '₹10,600', '₹8,999', '₹18,999', '4.4', '4.3', '4.1', '4.5', '2.5', '4.2']\n"
     ]
    }
   ],
   "source": [
    "print(result)"
   ]
  },
  {
   "cell_type": "code",
   "execution_count": 81,
   "metadata": {},
   "outputs": [
    {
     "data": {
      "text/plain": [
       "{'rule_3307': ['₹9,999',\n",
       "  '₹15,990',\n",
       "  '₹14,999',\n",
       "  '₹7,499',\n",
       "  '₹7,499',\n",
       "  '₹13,990',\n",
       "  '₹17,490',\n",
       "  '₹11,790',\n",
       "  '₹6,999',\n",
       "  '₹9,790',\n",
       "  '₹9,490',\n",
       "  '₹10,790',\n",
       "  '₹23,990',\n",
       "  '₹9,999',\n",
       "  '₹10,600',\n",
       "  '₹8,999',\n",
       "  '₹14,990',\n",
       "  '₹11,999',\n",
       "  '₹15,990',\n",
       "  '₹5,690',\n",
       "  '₹23,790',\n",
       "  '₹17,500',\n",
       "  '₹35,190',\n",
       "  '₹12,990'],\n",
       " 'rule_pkeu': ['4.4',\n",
       "  '4.3',\n",
       "  '4.4',\n",
       "  '4.3',\n",
       "  '4.1',\n",
       "  '4.3',\n",
       "  '4.3',\n",
       "  '4.4',\n",
       "  '4.4',\n",
       "  '4.4',\n",
       "  '4.2',\n",
       "  '4.4',\n",
       "  '4.3',\n",
       "  '4.4',\n",
       "  '4.3',\n",
       "  '4.3',\n",
       "  '4.2',\n",
       "  '4.3',\n",
       "  '4.3',\n",
       "  '4.3',\n",
       "  '4.3',\n",
       "  '4.4',\n",
       "  '4.2'],\n",
       " 'rule_7f3z': ['4.4',\n",
       "  '4.3',\n",
       "  '4.4',\n",
       "  '4.3',\n",
       "  '4.1',\n",
       "  '4.3',\n",
       "  '4.3',\n",
       "  '4.4',\n",
       "  '4.4',\n",
       "  '4.4',\n",
       "  '4.2',\n",
       "  '4.4',\n",
       "  '4.3',\n",
       "  '4.4',\n",
       "  '4.3',\n",
       "  '4.3',\n",
       "  '4.2',\n",
       "  '4.3',\n",
       "  '4.3',\n",
       "  '4.3',\n",
       "  '4.3',\n",
       "  '4.4',\n",
       "  '4.2'],\n",
       " 'rule_hdmu': ['4.4',\n",
       "  '4.3',\n",
       "  '4.4',\n",
       "  '4.3',\n",
       "  '4.1',\n",
       "  '4.3',\n",
       "  '4.3',\n",
       "  '4.4',\n",
       "  '4.4',\n",
       "  '4.4',\n",
       "  '4.2',\n",
       "  '4.4',\n",
       "  '4.3',\n",
       "  '4.4',\n",
       "  '4.3',\n",
       "  '4.3',\n",
       "  '4.2',\n",
       "  '4.3',\n",
       "  '4.3',\n",
       "  '4.3',\n",
       "  '4.3',\n",
       "  '4.4',\n",
       "  '4.2'],\n",
       " 'rule_j310': ['4.4',\n",
       "  '4.3',\n",
       "  '4.4',\n",
       "  '4.3',\n",
       "  '4.1',\n",
       "  '4.3',\n",
       "  '4.3',\n",
       "  '4.4',\n",
       "  '4.4',\n",
       "  '4.4',\n",
       "  '4.2',\n",
       "  '4.4',\n",
       "  '4.3',\n",
       "  '4.4',\n",
       "  '4.3',\n",
       "  '4.3',\n",
       "  '4.2',\n",
       "  '4.3',\n",
       "  '4.3',\n",
       "  '4.3',\n",
       "  '4.3',\n",
       "  '4.4',\n",
       "  '4.2'],\n",
       " 'rule_gfvj': ['4.4',\n",
       "  '4.3',\n",
       "  '4.4',\n",
       "  '4.3',\n",
       "  '4.1',\n",
       "  '4.3',\n",
       "  '4.3',\n",
       "  '4.4',\n",
       "  '4.4',\n",
       "  '4.4',\n",
       "  '4.2',\n",
       "  '4.4',\n",
       "  '4.3',\n",
       "  '4.4',\n",
       "  '4.3',\n",
       "  '4.3',\n",
       "  '4.2',\n",
       "  '4.3',\n",
       "  '4.3',\n",
       "  '4.3',\n",
       "  '4.3',\n",
       "  '4.4',\n",
       "  '4.2'],\n",
       " 'rule_geqd': ['4.4',\n",
       "  '4.3',\n",
       "  '4.4',\n",
       "  '4.3',\n",
       "  '4.1',\n",
       "  '4.3',\n",
       "  '4.3',\n",
       "  '4.4',\n",
       "  '4.4',\n",
       "  '4.4',\n",
       "  '4.2',\n",
       "  '4.4',\n",
       "  '4.3',\n",
       "  '4.4',\n",
       "  '4.3',\n",
       "  '4.3',\n",
       "  '4.2',\n",
       "  '4.3',\n",
       "  '4.3',\n",
       "  '4.3',\n",
       "  '4.3',\n",
       "  '4.4',\n",
       "  '4.2'],\n",
       " 'rule_7jzt': ['4.4',\n",
       "  '4.3',\n",
       "  '4.4',\n",
       "  '4.3',\n",
       "  '4.1',\n",
       "  '4.3',\n",
       "  '4.3',\n",
       "  '4.4',\n",
       "  '4.4',\n",
       "  '4.4',\n",
       "  '4.2',\n",
       "  '4.4',\n",
       "  '4.3',\n",
       "  '4.4',\n",
       "  '4.3',\n",
       "  '4.3',\n",
       "  '4.2',\n",
       "  '4.3',\n",
       "  '4.3',\n",
       "  '4.3',\n",
       "  '4.3',\n",
       "  '4.4',\n",
       "  '4.2'],\n",
       " 'rule_q6f2': ['4.4',\n",
       "  '4.3',\n",
       "  '4.4',\n",
       "  '4.3',\n",
       "  '4.1',\n",
       "  '4.3',\n",
       "  '4.3',\n",
       "  '4.4',\n",
       "  '4.4',\n",
       "  '4.4',\n",
       "  '4.2',\n",
       "  '4.4',\n",
       "  '4.3',\n",
       "  '4.4',\n",
       "  '4.3',\n",
       "  '4.3',\n",
       "  '4.2',\n",
       "  '4.3',\n",
       "  '4.3',\n",
       "  '4.3',\n",
       "  '4.3',\n",
       "  '4.4',\n",
       "  '4.2'],\n",
       " 'rule_1dj0': ['4.4',\n",
       "  '4.3',\n",
       "  '4.4',\n",
       "  '4.3',\n",
       "  '4.1',\n",
       "  '4.3',\n",
       "  '4.3',\n",
       "  '4.4',\n",
       "  '4.4',\n",
       "  '4.4',\n",
       "  '4.2',\n",
       "  '4.4',\n",
       "  '4.3',\n",
       "  '4.4',\n",
       "  '4.3',\n",
       "  '4.3',\n",
       "  '4.2',\n",
       "  '4.3',\n",
       "  '4.3',\n",
       "  '4.3',\n",
       "  '4.3',\n",
       "  '4.4',\n",
       "  '4.2'],\n",
       " 'rule_tkon': ['4.4',\n",
       "  '4.3',\n",
       "  '4.4',\n",
       "  '4.3',\n",
       "  '4.1',\n",
       "  '4.3',\n",
       "  '4.3',\n",
       "  '4.4',\n",
       "  '4.4',\n",
       "  '4.4',\n",
       "  '4.2',\n",
       "  '4.4',\n",
       "  '4.3',\n",
       "  '4.4',\n",
       "  '4.3',\n",
       "  '4.3',\n",
       "  '4.2',\n",
       "  '4.3',\n",
       "  '4.3',\n",
       "  '4.3',\n",
       "  '4.3',\n",
       "  '4.4',\n",
       "  '4.2'],\n",
       " 'rule_2as0': ['4.4',\n",
       "  '4.3',\n",
       "  '4.4',\n",
       "  '4.3',\n",
       "  '4.1',\n",
       "  '4.3',\n",
       "  '4.3',\n",
       "  '4.4',\n",
       "  '4.4',\n",
       "  '4.4',\n",
       "  '4.2',\n",
       "  '4.4',\n",
       "  '4.3',\n",
       "  '4.4',\n",
       "  '4.3',\n",
       "  '4.3',\n",
       "  '4.2',\n",
       "  '4.3',\n",
       "  '4.3',\n",
       "  '4.3',\n",
       "  '4.3',\n",
       "  '4.4',\n",
       "  '4.2']}"
      ]
     },
     "execution_count": 81,
     "metadata": {},
     "output_type": "execute_result"
    }
   ],
   "source": [
    "scraper.get_result_similar('https://www.flipkart.com/search?q=washing+machines',grouped=True)"
   ]
  },
  {
   "cell_type": "code",
   "execution_count": 82,
   "metadata": {},
   "outputs": [
    {
     "ename": "KeyError",
     "evalue": "'rule_w6dw'",
     "output_type": "error",
     "traceback": [
      "\u001b[1;31m---------------------------------------------------------------------------\u001b[0m",
      "\u001b[1;31mKeyError\u001b[0m                                  Traceback (most recent call last)",
      "\u001b[1;32m<ipython-input-82-ea7a204b8df3>\u001b[0m in \u001b[0;36m<module>\u001b[1;34m\u001b[0m\n\u001b[1;32m----> 1\u001b[1;33m \u001b[0mscraper\u001b[0m\u001b[1;33m.\u001b[0m\u001b[0mset_rule_aliases\u001b[0m\u001b[1;33m(\u001b[0m\u001b[1;33m{\u001b[0m\u001b[1;34m'rule_w6dw'\u001b[0m\u001b[1;33m:\u001b[0m\u001b[1;34m'Product-Name'\u001b[0m\u001b[1;33m,\u001b[0m\u001b[1;34m'rule_01eu'\u001b[0m\u001b[1;33m:\u001b[0m\u001b[1;34m'Price'\u001b[0m\u001b[1;33m,\u001b[0m\u001b[1;34m'rule_wo7n'\u001b[0m\u001b[1;33m:\u001b[0m\u001b[1;34m'Rating'\u001b[0m\u001b[1;33m}\u001b[0m\u001b[1;33m)\u001b[0m\u001b[1;33m\u001b[0m\u001b[1;33m\u001b[0m\u001b[0m\n\u001b[0m\u001b[0;32m      2\u001b[0m \u001b[0mscraper\u001b[0m\u001b[1;33m.\u001b[0m\u001b[0mkeep_rules\u001b[0m\u001b[1;33m(\u001b[0m\u001b[1;33m[\u001b[0m\u001b[1;34m'rule_w6dw'\u001b[0m\u001b[1;33m,\u001b[0m\u001b[1;34m'rule_01eu'\u001b[0m\u001b[1;33m,\u001b[0m\u001b[1;34m'rule_wo7n'\u001b[0m\u001b[1;33m]\u001b[0m\u001b[1;33m)\u001b[0m\u001b[1;33m\u001b[0m\u001b[1;33m\u001b[0m\u001b[0m\n\u001b[0;32m      3\u001b[0m \u001b[0mscraper\u001b[0m\u001b[1;33m.\u001b[0m\u001b[0msave\u001b[0m\u001b[1;33m(\u001b[0m\u001b[1;34m'Flipkart-Search'\u001b[0m\u001b[1;33m)\u001b[0m\u001b[1;33m\u001b[0m\u001b[1;33m\u001b[0m\u001b[0m\n",
      "\u001b[1;32m~\\anaconda3\\lib\\site-packages\\autoscraper\\auto_scraper.py\u001b[0m in \u001b[0;36mset_rule_aliases\u001b[1;34m(self, rule_aliases)\u001b[0m\n\u001b[0;32m    705\u001b[0m         \u001b[0mid_to_stack\u001b[0m \u001b[1;33m=\u001b[0m \u001b[1;33m{\u001b[0m\u001b[0mstack\u001b[0m\u001b[1;33m[\u001b[0m\u001b[1;34m\"stack_id\"\u001b[0m\u001b[1;33m]\u001b[0m\u001b[1;33m:\u001b[0m \u001b[0mstack\u001b[0m \u001b[1;32mfor\u001b[0m \u001b[0mstack\u001b[0m \u001b[1;32min\u001b[0m \u001b[0mself\u001b[0m\u001b[1;33m.\u001b[0m\u001b[0mstack_list\u001b[0m\u001b[1;33m}\u001b[0m\u001b[1;33m\u001b[0m\u001b[1;33m\u001b[0m\u001b[0m\n\u001b[0;32m    706\u001b[0m         \u001b[1;32mfor\u001b[0m \u001b[0mrule_id\u001b[0m\u001b[1;33m,\u001b[0m \u001b[0malias\u001b[0m \u001b[1;32min\u001b[0m \u001b[0mrule_aliases\u001b[0m\u001b[1;33m.\u001b[0m\u001b[0mitems\u001b[0m\u001b[1;33m(\u001b[0m\u001b[1;33m)\u001b[0m\u001b[1;33m:\u001b[0m\u001b[1;33m\u001b[0m\u001b[1;33m\u001b[0m\u001b[0m\n\u001b[1;32m--> 707\u001b[1;33m             \u001b[0mid_to_stack\u001b[0m\u001b[1;33m[\u001b[0m\u001b[0mrule_id\u001b[0m\u001b[1;33m]\u001b[0m\u001b[1;33m[\u001b[0m\u001b[1;34m\"alias\"\u001b[0m\u001b[1;33m]\u001b[0m \u001b[1;33m=\u001b[0m \u001b[0malias\u001b[0m\u001b[1;33m\u001b[0m\u001b[1;33m\u001b[0m\u001b[0m\n\u001b[0m\u001b[0;32m    708\u001b[0m \u001b[1;33m\u001b[0m\u001b[0m\n\u001b[0;32m    709\u001b[0m     \u001b[1;32mdef\u001b[0m \u001b[0mgenerate_python_code\u001b[0m\u001b[1;33m(\u001b[0m\u001b[0mself\u001b[0m\u001b[1;33m)\u001b[0m\u001b[1;33m:\u001b[0m\u001b[1;33m\u001b[0m\u001b[1;33m\u001b[0m\u001b[0m\n",
      "\u001b[1;31mKeyError\u001b[0m: 'rule_w6dw'"
     ]
    }
   ],
   "source": [
    "scraper.set_rule_aliases({'rule_w6dw':'Product-Name','rule_01eu':'Price','rule_wo7n':'Rating'})\n",
    "scraper.keep_rules(['rule_w6dw','rule_01eu','rule_wo7n'])\n",
    "scraper.save('Flipkart-Search')"
   ]
  },
  {
   "cell_type": "code",
   "execution_count": null,
   "metadata": {},
   "outputs": [],
   "source": [
    "result=scraper.get_result_similar('https://www.flipkart.com/search?q=washing%20machines',group_by_alias=True)"
   ]
  },
  {
   "cell_type": "code",
   "execution_count": 56,
   "metadata": {},
   "outputs": [
    {
     "name": "stdout",
     "output_type": "stream",
     "text": [
      "{'Product-Name': ['LG 6.5 kg 5 Star Inverter Fully Automatic Top Load Silver', 'SAMSUNG 7 kg 5 Star Wifi AI-Enabled Fully Automatic Front Load Black, Grey', 'MarQ By Flipkart 7.5 kg 5 Star Rating Semi Automatic Top Load White, Maroon', 'SAMSUNG 7 kg 5 Star Inverter with Diamond Drum Fully Automatic Top Load Silver', 'LG 7 kg 5 star Fully Automatic Top Load Silver'], 'Price': ['₹15,990', '₹35,599', '₹8,999', '₹18,999', '₹17,490'], 'Rating': ['4.3', '4.5', '4.3', '4.3', '4.4']}\n"
     ]
    }
   ],
   "source": [
    "print(result)"
   ]
  },
  {
   "cell_type": "code",
   "execution_count": null,
   "metadata": {},
   "outputs": [],
   "source": []
  },
  {
   "cell_type": "code",
   "execution_count": null,
   "metadata": {},
   "outputs": [],
   "source": []
  },
  {
   "cell_type": "code",
   "execution_count": null,
   "metadata": {},
   "outputs": [],
   "source": []
  },
  {
   "cell_type": "code",
   "execution_count": null,
   "metadata": {},
   "outputs": [],
   "source": []
  },
  {
   "cell_type": "code",
   "execution_count": null,
   "metadata": {},
   "outputs": [],
   "source": []
  },
  {
   "cell_type": "code",
   "execution_count": null,
   "metadata": {},
   "outputs": [],
   "source": []
  },
  {
   "cell_type": "code",
   "execution_count": null,
   "metadata": {},
   "outputs": [],
   "source": []
  },
  {
   "cell_type": "code",
   "execution_count": null,
   "metadata": {},
   "outputs": [],
   "source": []
  },
  {
   "cell_type": "code",
   "execution_count": null,
   "metadata": {},
   "outputs": [],
   "source": []
  },
  {
   "cell_type": "code",
   "execution_count": null,
   "metadata": {},
   "outputs": [],
   "source": []
  },
  {
   "cell_type": "code",
   "execution_count": null,
   "metadata": {},
   "outputs": [],
   "source": []
  },
  {
   "cell_type": "code",
   "execution_count": null,
   "metadata": {},
   "outputs": [],
   "source": []
  },
  {
   "cell_type": "code",
   "execution_count": null,
   "metadata": {},
   "outputs": [],
   "source": []
  },
  {
   "cell_type": "code",
   "execution_count": null,
   "metadata": {},
   "outputs": [],
   "source": []
  },
  {
   "cell_type": "code",
   "execution_count": null,
   "metadata": {},
   "outputs": [],
   "source": []
  }
 ],
 "metadata": {
  "kernelspec": {
   "display_name": "Python 3",
   "language": "python",
   "name": "python3"
  },
  "language_info": {
   "codemirror_mode": {
    "name": "ipython",
    "version": 3
   },
   "file_extension": ".py",
   "mimetype": "text/x-python",
   "name": "python",
   "nbconvert_exporter": "python",
   "pygments_lexer": "ipython3",
   "version": "3.8.5"
  }
 },
 "nbformat": 4,
 "nbformat_minor": 4
}
